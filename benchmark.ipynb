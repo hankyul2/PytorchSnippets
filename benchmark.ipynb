{
 "cells": [
  {
   "cell_type": "markdown",
   "metadata": {},
   "source": [
    "## Benchmark with `torch.utils.benchmark`\n",
    "\n",
    "Pytorch provides way to benchmark `nn.Module` speed, which is needed in very various circumstances. In this notebook, we will see how `benchmark` works and how compare different approaches with multiple runs."
   ]
  },
  {
   "cell_type": "markdown",
   "metadata": {},
   "source": [
    "### 0. Import Modules"
   ]
  },
  {
   "cell_type": "code",
   "execution_count": 1,
   "metadata": {},
   "outputs": [],
   "source": [
    "import torch"
   ]
  },
  {
   "cell_type": "markdown",
   "metadata": {},
   "source": [
    "### 1. Defining functions to benchmark"
   ]
  },
  {
   "cell_type": "code",
   "execution_count": 4,
   "metadata": {},
   "outputs": [],
   "source": [
    "def batched_dot_mul_sum(a, b):\n",
    "    return a.mul(b).sum(-1)\n",
    "\n",
    "def batched_dot_bmm(a, b):\n",
    "    a = a.unsqueeze(1)\n",
    "    b = b.unsqueeze(-1)\n",
    "    return a.bmm(b).flatten(-3)\n",
    "\n",
    "x = torch.rand([1000, 64])\n",
    "\n",
    "assert batched_dot_mul_sum(x, x).allclose(batched_dot_bmm(x, x))"
   ]
  },
  {
   "cell_type": "markdown",
   "metadata": {},
   "source": [
    "### 2. Benchmark with timeit"
   ]
  },
  {
   "cell_type": "code",
   "execution_count": 21,
   "metadata": {},
   "outputs": [
    {
     "name": "stdout",
     "output_type": "stream",
     "text": [
      "dot_mul: 194.8us\n",
      "dot_bmm:  28.1us\n"
     ]
    }
   ],
   "source": [
    "import timeit\n",
    "\n",
    "t0 = timeit.Timer(\n",
    "    stmt='batched_dot_mul_sum(x, x)',\n",
    "    setup='from __main__ import batched_dot_mul_sum',\n",
    "    globals={'x':x}\n",
    ")\n",
    "\n",
    "t1 = timeit.Timer(\n",
    "    stmt='batched_dot_bmm(x, x)',\n",
    "    setup='from __main__ import batched_dot_bmm',\n",
    "    globals={'x':x}\n",
    ")\n",
    "\n",
    "print(f'dot_mul: {t0.timeit(1000) / 1000 * 1e6:>5.1f}us')\n",
    "print(f'dot_bmm: {t1.timeit(1000) / 1000 * 1e6:>5.1f}us')"
   ]
  },
  {
   "cell_type": "markdown",
   "metadata": {},
   "source": [
    "### 3. Benchmark with torch.utils.benchmark\n",
    "\n",
    "The things you should pay attentions:\n",
    "1. Num threads\n",
    "2. GPU or CPU\n",
    "\n",
    "What `torch.utils.benchmark` cares for you:\n",
    "- warmup\n",
    "- gpu & cpu sych\n",
    "- (`blocked_autorange`) min num runs"
   ]
  },
  {
   "cell_type": "code",
   "execution_count": 29,
   "metadata": {},
   "outputs": [
    {
     "name": "stdout",
     "output_type": "stream",
     "text": [
      "<torch.utils.benchmark.utils.common.Measurement object at 0x7f940fa3b5d0>\n",
      "batched_dot_mul_sum(x, x)\n",
      "setup: from __main__ import batched_dot_mul_sum\n",
      "  46.98 us\n",
      "  1 measurement, 100 runs , 1 thread\n",
      "<torch.utils.benchmark.utils.common.Measurement object at 0x7f94172bad90>\n",
      "batched_dot_bmm(x, x)\n",
      "setup: from __main__ import batched_dot_bmm\n",
      "  133.97 us\n",
      "  1 measurement, 100 runs , 1 thread\n"
     ]
    }
   ],
   "source": [
    "import torch.utils.benchmark as benchmark\n",
    "\n",
    "t0 = benchmark.Timer(\n",
    "    stmt='batched_dot_mul_sum(x, x)',\n",
    "    setup='from __main__ import batched_dot_mul_sum',\n",
    "    globals={'x':x}\n",
    ")\n",
    "\n",
    "t1 = benchmark.Timer(\n",
    "    stmt='batched_dot_bmm(x, x)',\n",
    "    setup='from __main__ import batched_dot_bmm',\n",
    "    globals={'x':x}\n",
    ")\n",
    "\n",
    "print(t0.timeit(100))\n",
    "print(t1.timeit(100))"
   ]
  },
  {
   "cell_type": "code",
   "execution_count": 32,
   "metadata": {},
   "outputs": [
    {
     "name": "stdout",
     "output_type": "stream",
     "text": [
      "benchmarking on 16 threads\n",
      "<torch.utils.benchmark.utils.common.Measurement object at 0x7f940ee037d0>\n",
      "Batched Dot: Impl. with mul\n",
      "setup: from __main__ import batched_dot_mul_sum\n",
      "  54.37 us\n",
      "  1 measurement, 100 runs , 16 threads\n",
      "<torch.utils.benchmark.utils.common.Measurement object at 0x7f940fa3b850>\n",
      "Batched Dot: Impl. with bmm\n",
      "setup: from __main__ import batched_dot_bmm\n",
      "  333.63 us\n",
      "  1 measurement, 100 runs , 16 threads\n"
     ]
    }
   ],
   "source": [
    "import torch\n",
    "import torch.utils.benchmark as benchmark\n",
    "\n",
    "num_threads = torch.get_num_threads()\n",
    "\n",
    "print(f'benchmarking on {num_threads} threads')\n",
    "\n",
    "t0 = benchmark.Timer(\n",
    "    stmt='batched_dot_mul_sum(x, x)',\n",
    "    setup='from __main__ import batched_dot_mul_sum',\n",
    "    globals={'x':x},\n",
    "    num_threads=num_threads,\n",
    "    label='Batched Dot',\n",
    "    sub_label='Impl. with mul'\n",
    ")\n",
    "\n",
    "t1 = benchmark.Timer(\n",
    "    stmt='batched_dot_bmm(x, x)',\n",
    "    setup='from __main__ import batched_dot_bmm',\n",
    "    globals={'x':x},\n",
    "    num_threads=num_threads,\n",
    "    label='Batched Dot',\n",
    "    sub_label='Impl. with bmm'\n",
    ")\n",
    "\n",
    "print(t0.timeit(100))\n",
    "print(t1.timeit(100))\n"
   ]
  },
  {
   "cell_type": "code",
   "execution_count": 33,
   "metadata": {},
   "outputs": [
    {
     "name": "stdout",
     "output_type": "stream",
     "text": [
      "<torch.utils.benchmark.utils.common.Measurement object at 0x7f940fa362d0>\n",
      "Batched Dot: Impl. with mul\n",
      "setup: from __main__ import batched_dot_mul_sum\n",
      "  139.34 us\n",
      "  1 measurement, 10000 runs , 16 threads\n",
      "<torch.utils.benchmark.utils.common.Measurement object at 0x7f940edef710>\n",
      "Batched Dot: Impl. with bmm\n",
      "setup: from __main__ import batched_dot_bmm\n",
      "  104.36 us\n",
      "  1 measurement, 10000 runs , 16 threads\n"
     ]
    }
   ],
   "source": [
    "print(t0.blocked_autorange())\n",
    "print(t1.blocked_autorange())"
   ]
  },
  {
   "cell_type": "markdown",
   "metadata": {},
   "source": [
    "### 4. Run benchmark with different input & condition"
   ]
  },
  {
   "cell_type": "code",
   "execution_count": 9,
   "metadata": {},
   "outputs": [
    {
     "name": "stdout",
     "output_type": "stream",
     "text": [
      "[------- matrix multiplication -------]\n",
      "                    |   mul   |   bmm  \n",
      "1 threads: ----------------------------\n",
      "      [1, 1]        |    4.5  |     5.8\n",
      "      [1, 64]       |    4.8  |     6.1\n",
      "      [1, 256]      |    6.2  |     6.3\n",
      "      [1, 1024]     |    6.2  |     8.9\n",
      "      [64, 1]       |    4.8  |     6.9\n",
      "      [64, 64]      |   13.5  |    15.6\n",
      "      [64, 256]     |   12.6  |    24.8\n",
      "      [64, 1024]    |   25.0  |   186.3\n",
      "      [256, 1]      |    6.4  |     8.6\n",
      "      [256, 64]     |   14.4  |    23.2\n",
      "      [256, 256]    |   26.3  |    84.6\n",
      "      [256, 1024]   |  142.3  |   726.3\n",
      "      [1024, 1]     |   12.0  |    14.3\n",
      "      [1024, 64]    |   33.6  |    76.4\n",
      "      [1024, 256]   |  147.5  |   304.8\n",
      "      [1024, 1024]  |  661.3  |  2862.0\n",
      "4 threads: ----------------------------\n",
      "      [1, 1]        |    7.6  |     5.8\n",
      "      [1, 64]       |    5.2  |     5.8\n",
      "      [1, 256]      |    6.2  |    11.0\n",
      "      [1, 1024]     |    6.0  |     8.2\n",
      "      [64, 1]       |    4.8  |     8.3\n",
      "      [64, 64]      |   13.4  |    15.7\n",
      "      [64, 256]     |   10.4  |    16.5\n",
      "      [64, 1024]    |   27.8  |   382.0\n",
      "      [256, 1]      |    6.4  |    11.8\n",
      "      [256, 64]     |   13.6  |    14.0\n",
      "      [256, 256]    |   29.1  |    30.4\n",
      "      [256, 1024]   |   36.0  |   212.7\n",
      "      [1024, 1]     |   12.3  |    10.3\n",
      "      [1024, 64]    |   34.9  |    33.1\n",
      "      [1024, 256]   |   34.6  |    99.8\n",
      "      [1024, 1024]  |  181.6  |   782.3\n",
      "8 threads: ----------------------------\n",
      "      [1, 1]        |    4.5  |     6.0\n",
      "      [1, 64]       |    4.6  |     5.8\n",
      "      [1, 256]      |    6.3  |     6.4\n",
      "      [1, 1024]     |    6.2  |     8.5\n",
      "      [64, 1]       |    5.1  |    12.0\n",
      "      [64, 64]      |   13.0  |    12.6\n",
      "      [64, 256]     |   10.6  |    15.6\n",
      "      [64, 1024]    |   38.0  |   430.1\n",
      "      [256, 1]      |    6.6  |    12.8\n",
      "      [256, 64]     |   18.1  |    15.8\n",
      "      [256, 256]    |   33.7  |    25.7\n",
      "      [256, 1024]   |   31.7  |   158.6\n",
      "      [1024, 1]     |    7.2  |    13.6\n",
      "      [1024, 64]    |   38.7  |    27.8\n",
      "      [1024, 256]   |   30.5  |    67.5\n",
      "      [1024, 1024]  |  153.9  |   492.7\n",
      "16 threads: ---------------------------\n",
      "      [1, 1]        |    4.7  |     5.6\n",
      "      [1, 64]       |    4.9  |     5.6\n",
      "      [1, 256]      |   10.7  |     6.2\n",
      "      [1, 1024]     |    6.5  |     8.2\n",
      "      [64, 1]       |    5.1  |    36.2\n",
      "      [64, 64]      |    8.2  |    35.3\n",
      "      [64, 256]     |   10.6  |    35.0\n",
      "      [64, 1024]    |   81.2  |   793.6\n",
      "      [256, 1]      |    6.4  |    35.7\n",
      "      [256, 64]     |   19.7  |    40.8\n",
      "      [256, 256]    |   93.6  |    51.8\n",
      "      [256, 1024]   |   97.0  |   838.6\n",
      "      [1024, 1]     |    7.3  |    25.6\n",
      "      [1024, 64]    |   74.0  |    31.2\n",
      "      [1024, 256]   |  116.3  |    64.8\n",
      "      [1024, 1024]  |   87.4  |   374.7\n",
      "\n",
      "Times are in microseconds (us).\n",
      "\n"
     ]
    }
   ],
   "source": [
    "import torch\n",
    "import torch.utils.benchmark as benchmark\n",
    "from itertools import product\n",
    "\n",
    "results = []\n",
    "\n",
    "size = [1, 64, 256, 1024]\n",
    "\n",
    "for b, n in product(size, size):\n",
    "    label = 'matrix multiplication'\n",
    "    sub_label = f'[{b}, {n}]'\n",
    "    x = torch.rand((b, n))\n",
    "\n",
    "    for num_threads in [1, 4, 8, 16]:\n",
    "        results.append(benchmark.Timer(\n",
    "            stmt='batched_dot_mul_sum(x, x)',\n",
    "            setup='from __main__ import batched_dot_mul_sum',\n",
    "            globals={'x': x},\n",
    "            label=label,\n",
    "            sub_label=sub_label,\n",
    "            description='mul',\n",
    "            num_threads=num_threads\n",
    "        ).blocked_autorange(min_run_time=1))\n",
    "\n",
    "        results.append(benchmark.Timer(\n",
    "            stmt='batched_dot_bmm(x, x)',\n",
    "            setup='from __main__ import batched_dot_bmm',\n",
    "            globals={'x': x},\n",
    "            label=label,\n",
    "            sub_label=sub_label,\n",
    "            description='bmm',\n",
    "            num_threads=num_threads\n",
    "        ).blocked_autorange(min_run_time=1))\n",
    "\n",
    "compare = benchmark.Compare(results)\n",
    "compare.print()"
   ]
  },
  {
   "cell_type": "code",
   "execution_count": null,
   "metadata": {},
   "outputs": [],
   "source": []
  }
 ],
 "metadata": {
  "interpreter": {
   "hash": "d4d1e4263499bec80672ea0156c357c1ee493ec2b1c70f0acce89fc37c4a6abe"
  },
  "kernelspec": {
   "display_name": "Python 3.7.11 64-bit ('base': conda)",
   "language": "python",
   "name": "python3"
  },
  "language_info": {
   "codemirror_mode": {
    "name": "ipython",
    "version": 3
   },
   "file_extension": ".py",
   "mimetype": "text/x-python",
   "name": "python",
   "nbconvert_exporter": "python",
   "pygments_lexer": "ipython3",
   "version": "3.7.11"
  },
  "orig_nbformat": 4
 },
 "nbformat": 4,
 "nbformat_minor": 2
}
